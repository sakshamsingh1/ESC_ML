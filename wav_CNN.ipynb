{
  "nbformat": 4,
  "nbformat_minor": 0,
  "metadata": {
    "colab": {
      "provenance": [],
      "gpuType": "T4"
    },
    "kernelspec": {
      "name": "python3",
      "display_name": "Python 3"
    },
    "language_info": {
      "name": "python"
    },
    "accelerator": "GPU"
  },
  "cells": [
    {
      "cell_type": "code",
      "execution_count": 1,
      "metadata": {
        "id": "3Aok3Ti24x0g"
      },
      "outputs": [],
      "source": [
        "import random\n",
        "import os\n",
        "import numpy as np\n",
        "import pandas as pd\n",
        "import matplotlib.pyplot as plt\n",
        "\n",
        "import torch\n",
        "import torchvision\n",
        "import torchvision.transforms as transforms\n",
        "import torch.nn as nn\n",
        "import torch.optim as optim\n",
        "import torch.nn.functional as F\n",
        "from torch.utils.data import Dataset, DataLoader\n",
        "from torchsummary import summary\n",
        "from tqdm import tqdm\n",
        "\n",
        "from pathlib import Path\n",
        "import torchaudio"
      ]
    },
    {
      "cell_type": "code",
      "source": [
        "!git clone https://github.com/karolpiczak/ESC-50.git"
      ],
      "metadata": {
        "colab": {
          "base_uri": "https://localhost:8080/"
        },
        "id": "uqUMBVaC5NCD",
        "outputId": "e07811d6-b710-4685-e8fc-8f2720421105"
      },
      "execution_count": 2,
      "outputs": [
        {
          "output_type": "stream",
          "name": "stdout",
          "text": [
            "Cloning into 'ESC-50'...\n",
            "remote: Enumerating objects: 4199, done.\u001b[K\n",
            "remote: Counting objects: 100% (63/63), done.\u001b[K\n",
            "remote: Compressing objects: 100% (45/45), done.\u001b[K\n",
            "remote: Total 4199 (delta 40), reused 38 (delta 18), pack-reused 4136\u001b[K\n",
            "Receiving objects: 100% (4199/4199), 878.79 MiB | 32.12 MiB/s, done.\n",
            "Resolving deltas: 100% (287/287), done.\n",
            "Updating files: 100% (2011/2011), done.\n"
          ]
        }
      ]
    },
    {
      "cell_type": "code",
      "source": [
        "path_audio = 'ESC-50/audio'"
      ],
      "metadata": {
        "id": "LpL79WWJAXf2"
      },
      "execution_count": 5,
      "outputs": []
    },
    {
      "cell_type": "code",
      "source": [
        "from torchaudio.transforms import Resample\n",
        "class DataGenerator(Dataset):\n",
        "    def __init__(self, path, transform = None, kind='train'):\n",
        "\n",
        "        if kind=='train':\n",
        "            files = Path(path).glob('[1-4]-*')\n",
        "            self.items = [(str(file), file.name.split('-')[-1].replace('.wav', '')) for file in files]\n",
        "        if kind=='test':\n",
        "            files = Path(path).glob('5-*')\n",
        "            self.items = [(str(file), file.name.split('-')[-1].replace('.wav', '')) for file in files]\n",
        "\n",
        "        self.length = len(self.items)\n",
        "        # print(self.length)\n",
        "\n",
        "    def __getitem__(self, index):\n",
        "        filename, label = self.items[index]\n",
        "        data_tensor, orig_rate = torchaudio.load(filename)\n",
        "        if orig_rate != 16000:\n",
        "          resampler = Resample(orig_freq=orig_rate, new_freq=16000)\n",
        "          data_tensor = resampler(data_tensor)\n",
        "        tmp = data_tensor[0,0:80000]\n",
        "        return (tmp, int(label))\n",
        "\n",
        "    def __len__(self):\n",
        "        return self.length"
      ],
      "metadata": {
        "id": "RvZ1eBvs9agZ"
      },
      "execution_count": 16,
      "outputs": []
    },
    {
      "cell_type": "code",
      "source": [
        "batch_size = 64\n",
        "\n",
        "train_data = DataGenerator(path_audio, kind='train')\n",
        "test_data = DataGenerator(path_audio, kind='test')\n",
        "\n",
        "train_loader = DataLoader(train_data, batch_size=batch_size, shuffle=True)\n",
        "test_loader = DataLoader(test_data, batch_size=batch_size, shuffle=True)"
      ],
      "metadata": {
        "id": "JqdNxa7FATvp"
      },
      "execution_count": 17,
      "outputs": []
    },
    {
      "cell_type": "code",
      "source": [
        "class Net(nn.Module):\n",
        "\n",
        "    def __init__(self, num_classes=50):\n",
        "        super(Net, self).__init__()\n",
        "        self.conv1 = nn.Conv2d(in_channels=1, out_channels=16, kernel_size=(1,8), stride=(1,1), padding=\"same\")\n",
        "        self.bn1 = nn.BatchNorm2d(16)\n",
        "        self.conv2 = nn.Conv2d(in_channels=16, out_channels=16, kernel_size=(1,8), stride=(1,1), padding=\"same\")\n",
        "        self.bn2 = nn.BatchNorm2d(16)\n",
        "\n",
        "        self.pool_1 = nn.MaxPool2d(kernel_size=(1,128), stride = (1,128), padding=0)\n",
        "\n",
        "        self.conv3 = nn.Conv2d(in_channels=1, out_channels=32, kernel_size=(3,3), stride=(1,1), padding=1)\n",
        "        self.bn3 = nn.BatchNorm2d(32)\n",
        "        self.conv4 = nn.Conv2d(in_channels=32, out_channels=32, kernel_size=(3,3), stride=(1,1), padding=1)\n",
        "        self.bn4 = nn.BatchNorm2d(32)\n",
        "\n",
        "        self.pool_2 = nn.MaxPool2d(kernel_size=4, padding=0)\n",
        "\n",
        "        self.conv5 = nn.Conv2d(in_channels=32, out_channels=64, kernel_size=(3,3), stride=(2,2), padding=2)\n",
        "        self.bn5 = nn.BatchNorm2d(64)\n",
        "        self.conv6 = nn.Conv2d(in_channels=64, out_channels=64, kernel_size=(3,3), stride=(2,2), padding=1)\n",
        "        self.bn6 = nn.BatchNorm2d(64)\n",
        "\n",
        "        self.pool_3 = nn.MaxPool2d(kernel_size=2, padding=0)\n",
        "\n",
        "        self.conv7 = nn.Conv2d(in_channels=64, out_channels=128, kernel_size=(3,3), stride=(2,2), padding=1)\n",
        "        self.bn7 = nn.BatchNorm2d(128)\n",
        "        self.conv8 = nn.Conv2d(in_channels=128, out_channels=128, kernel_size=(3,3), stride=(2,2), padding=1)\n",
        "        self.bn8 = nn.BatchNorm2d(128)\n",
        "\n",
        "        self.pool_4 = nn.MaxPool2d(kernel_size=(1,2), padding=0)\n",
        "        self.dense = nn.Linear(in_features= 256, out_features=num_classes)\n",
        "        self.dropout = nn.Dropout(0.2)\n",
        "\n",
        "\n",
        "    def forward(self, x):\n",
        "        x = x.unsqueeze(1).view(-1, 1, 1, 80000)\n",
        "        x = F.relu(self.bn1(self.conv1(x)))\n",
        "        x = self.dropout(x)\n",
        "        x = F.relu(self.bn2(self.conv2(x)))\n",
        "        x = self.pool_1(x)\n",
        "        x = x.view((-1,1,16, 625))\n",
        "        x = F.relu(self.bn3(self.conv3(x)))\n",
        "        x = self.dropout(x)\n",
        "        x = F.relu(self.bn4(self.conv4(x)))\n",
        "        x = self.pool_2(x)\n",
        "        x = F.relu(self.bn5(self.conv5(x)))\n",
        "        x = self.dropout(x)\n",
        "        x = F.relu(self.bn6(self.conv6(x)))\n",
        "        x = self.pool_3(x)\n",
        "        x = F.relu(self.bn7(self.conv7(x)))\n",
        "        x = self.dropout(x)\n",
        "        x = F.relu(self.bn8(self.conv8(x)))\n",
        "        x = self.pool_4(x)\n",
        "        x = x.view(x.size(0),-1)\n",
        "        x = self.dense(x)\n",
        "        x = self.dropout(x)\n",
        "        return x\n",
        "\n",
        "device = \"cpu\"\n",
        "if (torch.cuda.is_available()):\n",
        "    device = \"cuda\""
      ],
      "metadata": {
        "id": "fGew2jl5AUHZ"
      },
      "execution_count": 18,
      "outputs": []
    },
    {
      "cell_type": "code",
      "source": [
        "# summary(model,(1,80000))"
      ],
      "metadata": {
        "colab": {
          "base_uri": "https://localhost:8080/"
        },
        "id": "m99WNLwuAehY",
        "outputId": "40487b9d-bde7-4668-832e-5e1f7b3a4bff"
      },
      "execution_count": 9,
      "outputs": [
        {
          "output_type": "stream",
          "name": "stderr",
          "text": [
            "/usr/local/lib/python3.10/dist-packages/torch/nn/modules/conv.py:456: UserWarning: Using padding='same' with even kernel lengths and odd dilation may require a zero-padded copy of the input be created (Triggered internally at ../aten/src/ATen/native/Convolution.cpp:1008.)\n",
            "  return F.conv2d(input, weight, bias, self.stride,\n"
          ]
        },
        {
          "output_type": "stream",
          "name": "stdout",
          "text": [
            "----------------------------------------------------------------\n",
            "        Layer (type)               Output Shape         Param #\n",
            "================================================================\n",
            "            Conv2d-1         [-1, 16, 1, 80000]             144\n",
            "       BatchNorm2d-2         [-1, 16, 1, 80000]              32\n",
            "           Dropout-3         [-1, 16, 1, 80000]               0\n",
            "            Conv2d-4         [-1, 16, 1, 80000]           2,064\n",
            "       BatchNorm2d-5         [-1, 16, 1, 80000]              32\n",
            "         MaxPool2d-6           [-1, 16, 1, 625]               0\n",
            "            Conv2d-7          [-1, 32, 16, 625]             320\n",
            "       BatchNorm2d-8          [-1, 32, 16, 625]              64\n",
            "           Dropout-9          [-1, 32, 16, 625]               0\n",
            "           Conv2d-10          [-1, 32, 16, 625]           9,248\n",
            "      BatchNorm2d-11          [-1, 32, 16, 625]              64\n",
            "        MaxPool2d-12           [-1, 32, 4, 156]               0\n",
            "           Conv2d-13            [-1, 64, 3, 79]          18,496\n",
            "      BatchNorm2d-14            [-1, 64, 3, 79]             128\n",
            "          Dropout-15            [-1, 64, 3, 79]               0\n",
            "           Conv2d-16            [-1, 64, 2, 40]          36,928\n",
            "      BatchNorm2d-17            [-1, 64, 2, 40]             128\n",
            "        MaxPool2d-18            [-1, 64, 1, 20]               0\n",
            "           Conv2d-19           [-1, 128, 1, 10]          73,856\n",
            "      BatchNorm2d-20           [-1, 128, 1, 10]             256\n",
            "          Dropout-21           [-1, 128, 1, 10]               0\n",
            "           Conv2d-22            [-1, 128, 1, 5]         147,584\n",
            "      BatchNorm2d-23            [-1, 128, 1, 5]             256\n",
            "        MaxPool2d-24            [-1, 128, 1, 2]               0\n",
            "           Linear-25                   [-1, 50]          12,850\n",
            "          Dropout-26                   [-1, 50]               0\n",
            "================================================================\n",
            "Total params: 302,450\n",
            "Trainable params: 302,450\n",
            "Non-trainable params: 0\n",
            "----------------------------------------------------------------\n",
            "Input size (MB): 0.31\n",
            "Forward/backward pass size (MB): 61.74\n",
            "Params size (MB): 1.15\n",
            "Estimated Total Size (MB): 63.20\n",
            "----------------------------------------------------------------\n"
          ]
        }
      ]
    },
    {
      "cell_type": "code",
      "source": [
        "def train(model, device, train_loader, optimizer, epoch):\n",
        "    model.train()\n",
        "    train_loss = 0\n",
        "    print(\"------------------------------- Epoch:\", epoch,\"-------------------------------\")\n",
        "    for batch_idx, (data, target) in enumerate(train_loader):\n",
        "        data, target = data.to(device), target.to(device)\n",
        "\n",
        "        optimizer.zero_grad()\n",
        "\n",
        "        output = model(data.to(device))\n",
        "\n",
        "        loss = loss_criteria(output, target)\n",
        "\n",
        "        train_loss += loss.item()\n",
        "\n",
        "        loss.backward(retain_graph=True)\n",
        "        optimizer.step()\n",
        "\n",
        "    avg_loss = train_loss / (batch_idx+1)\n",
        "    print('Training set: Average loss: {:.6f}'.format(avg_loss))\n",
        "    return avg_loss"
      ],
      "metadata": {
        "id": "YiCiPyN2AffU"
      },
      "execution_count": 19,
      "outputs": []
    },
    {
      "cell_type": "code",
      "source": [
        "loss_criteria = nn.CrossEntropyLoss()\n",
        "def test(model, device, test_loader):\n",
        "    model.eval()\n",
        "    test_loss = 0\n",
        "    correct = 0\n",
        "    with torch.no_grad():\n",
        "        batch_count = 0\n",
        "        for data, target in test_loader:\n",
        "            batch_count += 1\n",
        "            data, target = data.to(device), target.to(device)\n",
        "\n",
        "            output = model(data)\n",
        "\n",
        "            test_loss += loss_criteria(output, target).item()\n",
        "\n",
        "            _, predicted = torch.max(output.data, 1)\n",
        "            correct += torch.sum(target==predicted).item()\n",
        "\n",
        "    avg_loss = test_loss / batch_count\n",
        "    print('Validation set: Average loss: {:.6f}, Accuracy: {}/{} ({:.0f}%)\\n'.format(\n",
        "        avg_loss, correct, len(test_loader.dataset),\n",
        "        100. * correct / len(test_loader.dataset)))\n",
        "\n",
        "    return avg_loss"
      ],
      "metadata": {
        "id": "h616yvllAib0"
      },
      "execution_count": 20,
      "outputs": []
    },
    {
      "cell_type": "code",
      "source": [
        "model = Net(num_classes=50).to(device)\n",
        "input_data = torch.randn(64, 1, 80000)\n",
        "\n",
        "optimizer = optim.Adam(model.parameters(), lr=3e-4)\n",
        "\n",
        "loss_criteria = nn.CrossEntropyLoss()\n",
        "\n",
        "epoch_nums = []\n",
        "training_loss = []\n",
        "validation_loss = []\n",
        "\n",
        "epochs = 50\n",
        "print('Training on', device)\n",
        "for epoch in tqdm(range(1, epochs + 1)):\n",
        "    train_loss = train(model, device, train_loader, optimizer, epoch)\n",
        "    test_loss = test(model, device, test_loader)\n",
        "    epoch_nums.append(epoch)\n",
        "    training_loss.append(train_loss)\n",
        "    validation_loss.append(test_loss)"
      ],
      "metadata": {
        "colab": {
          "base_uri": "https://localhost:8080/"
        },
        "id": "mvdZBa1nAlL6",
        "outputId": "c082bd29-1a33-4eee-8a8b-a87db7ef0458"
      },
      "execution_count": 21,
      "outputs": [
        {
          "output_type": "stream",
          "name": "stdout",
          "text": [
            "Training on cuda\n"
          ]
        },
        {
          "output_type": "stream",
          "name": "stderr",
          "text": [
            "\r  0%|          | 0/50 [00:00<?, ?it/s]"
          ]
        },
        {
          "output_type": "stream",
          "name": "stdout",
          "text": [
            "------------------------------- Epoch: 1 -------------------------------\n",
            "Training set: Average loss: 3.943439\n"
          ]
        },
        {
          "output_type": "stream",
          "name": "stderr",
          "text": [
            "\r  2%|▏         | 1/50 [00:34<27:55, 34.20s/it]"
          ]
        },
        {
          "output_type": "stream",
          "name": "stdout",
          "text": [
            "Validation set: Average loss: 3.922614, Accuracy: 8/400 (2%)\n",
            "\n",
            "------------------------------- Epoch: 2 -------------------------------\n",
            "Training set: Average loss: 3.732102\n"
          ]
        },
        {
          "output_type": "stream",
          "name": "stderr",
          "text": [
            "\r  4%|▍         | 2/50 [01:09<27:53, 34.87s/it]"
          ]
        },
        {
          "output_type": "stream",
          "name": "stdout",
          "text": [
            "Validation set: Average loss: 3.868791, Accuracy: 14/400 (4%)\n",
            "\n",
            "------------------------------- Epoch: 3 -------------------------------\n",
            "Training set: Average loss: 3.597051\n"
          ]
        },
        {
          "output_type": "stream",
          "name": "stderr",
          "text": [
            "\r  6%|▌         | 3/50 [01:43<26:55, 34.38s/it]"
          ]
        },
        {
          "output_type": "stream",
          "name": "stdout",
          "text": [
            "Validation set: Average loss: 3.701922, Accuracy: 24/400 (6%)\n",
            "\n",
            "------------------------------- Epoch: 4 -------------------------------\n",
            "Training set: Average loss: 3.442448\n"
          ]
        },
        {
          "output_type": "stream",
          "name": "stderr",
          "text": [
            "\r  8%|▊         | 4/50 [02:19<26:45, 34.90s/it]"
          ]
        },
        {
          "output_type": "stream",
          "name": "stdout",
          "text": [
            "Validation set: Average loss: 3.628297, Accuracy: 24/400 (6%)\n",
            "\n",
            "------------------------------- Epoch: 5 -------------------------------\n",
            "Training set: Average loss: 3.314631\n"
          ]
        },
        {
          "output_type": "stream",
          "name": "stderr",
          "text": [
            "\r 10%|█         | 5/50 [02:53<26:02, 34.72s/it]"
          ]
        },
        {
          "output_type": "stream",
          "name": "stdout",
          "text": [
            "Validation set: Average loss: 3.537424, Accuracy: 40/400 (10%)\n",
            "\n",
            "------------------------------- Epoch: 6 -------------------------------\n",
            "Training set: Average loss: 3.211943\n"
          ]
        },
        {
          "output_type": "stream",
          "name": "stderr",
          "text": [
            "\r 12%|█▏        | 6/50 [03:28<25:36, 34.91s/it]"
          ]
        },
        {
          "output_type": "stream",
          "name": "stdout",
          "text": [
            "Validation set: Average loss: 3.507287, Accuracy: 37/400 (9%)\n",
            "\n",
            "------------------------------- Epoch: 7 -------------------------------\n",
            "Training set: Average loss: 3.102491\n"
          ]
        },
        {
          "output_type": "stream",
          "name": "stderr",
          "text": [
            "\r 14%|█▍        | 7/50 [04:03<25:02, 34.94s/it]"
          ]
        },
        {
          "output_type": "stream",
          "name": "stdout",
          "text": [
            "Validation set: Average loss: 3.481516, Accuracy: 54/400 (14%)\n",
            "\n",
            "------------------------------- Epoch: 8 -------------------------------\n",
            "Training set: Average loss: 3.025943\n"
          ]
        },
        {
          "output_type": "stream",
          "name": "stderr",
          "text": [
            "\r 16%|█▌        | 8/50 [04:38<24:22, 34.82s/it]"
          ]
        },
        {
          "output_type": "stream",
          "name": "stdout",
          "text": [
            "Validation set: Average loss: 3.388337, Accuracy: 56/400 (14%)\n",
            "\n",
            "------------------------------- Epoch: 9 -------------------------------\n",
            "Training set: Average loss: 2.957786\n"
          ]
        },
        {
          "output_type": "stream",
          "name": "stderr",
          "text": [
            "\r 18%|█▊        | 9/50 [05:13<23:55, 35.01s/it]"
          ]
        },
        {
          "output_type": "stream",
          "name": "stdout",
          "text": [
            "Validation set: Average loss: 3.277274, Accuracy: 75/400 (19%)\n",
            "\n",
            "------------------------------- Epoch: 10 -------------------------------\n",
            "Training set: Average loss: 2.870336\n"
          ]
        },
        {
          "output_type": "stream",
          "name": "stderr",
          "text": [
            "\r 20%|██        | 10/50 [05:47<23:10, 34.77s/it]"
          ]
        },
        {
          "output_type": "stream",
          "name": "stdout",
          "text": [
            "Validation set: Average loss: 3.192422, Accuracy: 66/400 (16%)\n",
            "\n",
            "------------------------------- Epoch: 11 -------------------------------\n",
            "Training set: Average loss: 2.789886\n"
          ]
        },
        {
          "output_type": "stream",
          "name": "stderr",
          "text": [
            "\r 22%|██▏       | 11/50 [06:23<22:47, 35.05s/it]"
          ]
        },
        {
          "output_type": "stream",
          "name": "stdout",
          "text": [
            "Validation set: Average loss: 3.106782, Accuracy: 75/400 (19%)\n",
            "\n",
            "------------------------------- Epoch: 12 -------------------------------\n",
            "Training set: Average loss: 2.710361\n"
          ]
        },
        {
          "output_type": "stream",
          "name": "stderr",
          "text": [
            "\r 24%|██▍       | 12/50 [06:58<22:04, 34.84s/it]"
          ]
        },
        {
          "output_type": "stream",
          "name": "stdout",
          "text": [
            "Validation set: Average loss: 3.143548, Accuracy: 76/400 (19%)\n",
            "\n",
            "------------------------------- Epoch: 13 -------------------------------\n",
            "Training set: Average loss: 2.611834\n"
          ]
        },
        {
          "output_type": "stream",
          "name": "stderr",
          "text": [
            "\r 26%|██▌       | 13/50 [07:33<21:40, 35.16s/it]"
          ]
        },
        {
          "output_type": "stream",
          "name": "stdout",
          "text": [
            "Validation set: Average loss: 3.182131, Accuracy: 73/400 (18%)\n",
            "\n",
            "------------------------------- Epoch: 14 -------------------------------\n",
            "Training set: Average loss: 2.546299\n"
          ]
        },
        {
          "output_type": "stream",
          "name": "stderr",
          "text": [
            "\r 28%|██▊       | 14/50 [08:07<20:53, 34.82s/it]"
          ]
        },
        {
          "output_type": "stream",
          "name": "stdout",
          "text": [
            "Validation set: Average loss: 2.957328, Accuracy: 90/400 (22%)\n",
            "\n",
            "------------------------------- Epoch: 15 -------------------------------\n",
            "Training set: Average loss: 2.487960\n"
          ]
        },
        {
          "output_type": "stream",
          "name": "stderr",
          "text": [
            "\r 30%|███       | 15/50 [08:43<20:26, 35.03s/it]"
          ]
        },
        {
          "output_type": "stream",
          "name": "stdout",
          "text": [
            "Validation set: Average loss: 2.927986, Accuracy: 88/400 (22%)\n",
            "\n",
            "------------------------------- Epoch: 16 -------------------------------\n",
            "Training set: Average loss: 2.433832\n"
          ]
        },
        {
          "output_type": "stream",
          "name": "stderr",
          "text": [
            "\r 32%|███▏      | 16/50 [09:17<19:43, 34.82s/it]"
          ]
        },
        {
          "output_type": "stream",
          "name": "stdout",
          "text": [
            "Validation set: Average loss: 2.750760, Accuracy: 103/400 (26%)\n",
            "\n",
            "------------------------------- Epoch: 17 -------------------------------\n",
            "Training set: Average loss: 2.336916\n"
          ]
        },
        {
          "output_type": "stream",
          "name": "stderr",
          "text": [
            "\r 34%|███▍      | 17/50 [09:54<19:24, 35.30s/it]"
          ]
        },
        {
          "output_type": "stream",
          "name": "stdout",
          "text": [
            "Validation set: Average loss: 2.750193, Accuracy: 111/400 (28%)\n",
            "\n",
            "------------------------------- Epoch: 18 -------------------------------\n",
            "Training set: Average loss: 2.288192\n"
          ]
        },
        {
          "output_type": "stream",
          "name": "stderr",
          "text": [
            "\r 36%|███▌      | 18/50 [10:29<18:46, 35.22s/it]"
          ]
        },
        {
          "output_type": "stream",
          "name": "stdout",
          "text": [
            "Validation set: Average loss: 2.721897, Accuracy: 115/400 (29%)\n",
            "\n",
            "------------------------------- Epoch: 19 -------------------------------\n",
            "Training set: Average loss: 2.214825\n"
          ]
        },
        {
          "output_type": "stream",
          "name": "stderr",
          "text": [
            "\r 38%|███▊      | 19/50 [11:04<18:08, 35.12s/it]"
          ]
        },
        {
          "output_type": "stream",
          "name": "stdout",
          "text": [
            "Validation set: Average loss: 2.614399, Accuracy: 129/400 (32%)\n",
            "\n",
            "------------------------------- Epoch: 20 -------------------------------\n",
            "Training set: Average loss: 2.189125\n"
          ]
        },
        {
          "output_type": "stream",
          "name": "stderr",
          "text": [
            "\r 40%|████      | 20/50 [11:39<17:35, 35.19s/it]"
          ]
        },
        {
          "output_type": "stream",
          "name": "stdout",
          "text": [
            "Validation set: Average loss: 2.595345, Accuracy: 121/400 (30%)\n",
            "\n",
            "------------------------------- Epoch: 21 -------------------------------\n",
            "Training set: Average loss: 2.136032\n"
          ]
        },
        {
          "output_type": "stream",
          "name": "stderr",
          "text": [
            "\r 42%|████▏     | 21/50 [12:13<16:53, 34.96s/it]"
          ]
        },
        {
          "output_type": "stream",
          "name": "stdout",
          "text": [
            "Validation set: Average loss: 2.602413, Accuracy: 119/400 (30%)\n",
            "\n",
            "------------------------------- Epoch: 22 -------------------------------\n",
            "Training set: Average loss: 2.021222\n"
          ]
        },
        {
          "output_type": "stream",
          "name": "stderr",
          "text": [
            "\r 44%|████▍     | 22/50 [12:49<16:25, 35.19s/it]"
          ]
        },
        {
          "output_type": "stream",
          "name": "stdout",
          "text": [
            "Validation set: Average loss: 2.545722, Accuracy: 129/400 (32%)\n",
            "\n",
            "------------------------------- Epoch: 23 -------------------------------\n",
            "Training set: Average loss: 2.017486\n"
          ]
        },
        {
          "output_type": "stream",
          "name": "stderr",
          "text": [
            "\r 46%|████▌     | 23/50 [13:23<15:41, 34.88s/it]"
          ]
        },
        {
          "output_type": "stream",
          "name": "stdout",
          "text": [
            "Validation set: Average loss: 2.516858, Accuracy: 121/400 (30%)\n",
            "\n",
            "------------------------------- Epoch: 24 -------------------------------\n",
            "Training set: Average loss: 1.989339\n"
          ]
        },
        {
          "output_type": "stream",
          "name": "stderr",
          "text": [
            "\r 48%|████▊     | 24/50 [13:59<15:10, 35.00s/it]"
          ]
        },
        {
          "output_type": "stream",
          "name": "stdout",
          "text": [
            "Validation set: Average loss: 2.433514, Accuracy: 139/400 (35%)\n",
            "\n",
            "------------------------------- Epoch: 25 -------------------------------\n",
            "Training set: Average loss: 1.965242\n"
          ]
        },
        {
          "output_type": "stream",
          "name": "stderr",
          "text": [
            "\r 50%|█████     | 25/50 [14:32<14:26, 34.68s/it]"
          ]
        },
        {
          "output_type": "stream",
          "name": "stdout",
          "text": [
            "Validation set: Average loss: 2.348858, Accuracy: 148/400 (37%)\n",
            "\n",
            "------------------------------- Epoch: 26 -------------------------------\n",
            "Training set: Average loss: 1.909331\n"
          ]
        },
        {
          "output_type": "stream",
          "name": "stderr",
          "text": [
            "\r 52%|█████▏    | 26/50 [15:08<13:58, 34.92s/it]"
          ]
        },
        {
          "output_type": "stream",
          "name": "stdout",
          "text": [
            "Validation set: Average loss: 2.495628, Accuracy: 138/400 (34%)\n",
            "\n",
            "------------------------------- Epoch: 27 -------------------------------\n",
            "Training set: Average loss: 1.885168\n"
          ]
        },
        {
          "output_type": "stream",
          "name": "stderr",
          "text": [
            "\r 54%|█████▍    | 27/50 [15:42<13:16, 34.65s/it]"
          ]
        },
        {
          "output_type": "stream",
          "name": "stdout",
          "text": [
            "Validation set: Average loss: 2.356762, Accuracy: 157/400 (39%)\n",
            "\n",
            "------------------------------- Epoch: 28 -------------------------------\n",
            "Training set: Average loss: 1.789555\n"
          ]
        },
        {
          "output_type": "stream",
          "name": "stderr",
          "text": [
            "\r 56%|█████▌    | 28/50 [16:18<12:48, 34.95s/it]"
          ]
        },
        {
          "output_type": "stream",
          "name": "stdout",
          "text": [
            "Validation set: Average loss: 2.342469, Accuracy: 162/400 (40%)\n",
            "\n",
            "------------------------------- Epoch: 29 -------------------------------\n",
            "Training set: Average loss: 1.776257\n"
          ]
        },
        {
          "output_type": "stream",
          "name": "stderr",
          "text": [
            "\r 58%|█████▊    | 29/50 [16:52<12:08, 34.70s/it]"
          ]
        },
        {
          "output_type": "stream",
          "name": "stdout",
          "text": [
            "Validation set: Average loss: 2.369518, Accuracy: 150/400 (38%)\n",
            "\n",
            "------------------------------- Epoch: 30 -------------------------------\n",
            "Training set: Average loss: 1.704145\n"
          ]
        },
        {
          "output_type": "stream",
          "name": "stderr",
          "text": [
            "\r 60%|██████    | 30/50 [17:27<11:37, 34.88s/it]"
          ]
        },
        {
          "output_type": "stream",
          "name": "stdout",
          "text": [
            "Validation set: Average loss: 2.250917, Accuracy: 160/400 (40%)\n",
            "\n",
            "------------------------------- Epoch: 31 -------------------------------\n",
            "Training set: Average loss: 1.697640\n"
          ]
        },
        {
          "output_type": "stream",
          "name": "stderr",
          "text": [
            "\r 62%|██████▏   | 31/50 [18:01<10:57, 34.62s/it]"
          ]
        },
        {
          "output_type": "stream",
          "name": "stdout",
          "text": [
            "Validation set: Average loss: 2.450459, Accuracy: 147/400 (37%)\n",
            "\n",
            "------------------------------- Epoch: 32 -------------------------------\n",
            "Training set: Average loss: 1.679692\n"
          ]
        },
        {
          "output_type": "stream",
          "name": "stderr",
          "text": [
            "\r 64%|██████▍   | 32/50 [18:36<10:26, 34.83s/it]"
          ]
        },
        {
          "output_type": "stream",
          "name": "stdout",
          "text": [
            "Validation set: Average loss: 2.344755, Accuracy: 156/400 (39%)\n",
            "\n",
            "------------------------------- Epoch: 33 -------------------------------\n",
            "Training set: Average loss: 1.635463\n"
          ]
        },
        {
          "output_type": "stream",
          "name": "stderr",
          "text": [
            "\r 66%|██████▌   | 33/50 [19:10<09:47, 34.53s/it]"
          ]
        },
        {
          "output_type": "stream",
          "name": "stdout",
          "text": [
            "Validation set: Average loss: 2.286819, Accuracy: 170/400 (42%)\n",
            "\n",
            "------------------------------- Epoch: 34 -------------------------------\n",
            "Training set: Average loss: 1.607316\n"
          ]
        },
        {
          "output_type": "stream",
          "name": "stderr",
          "text": [
            "\r 68%|██████▊   | 34/50 [19:46<09:19, 34.95s/it]"
          ]
        },
        {
          "output_type": "stream",
          "name": "stdout",
          "text": [
            "Validation set: Average loss: 2.224867, Accuracy: 158/400 (40%)\n",
            "\n",
            "------------------------------- Epoch: 35 -------------------------------\n",
            "Training set: Average loss: 1.585783\n"
          ]
        },
        {
          "output_type": "stream",
          "name": "stderr",
          "text": [
            "\r 70%|███████   | 35/50 [20:20<08:40, 34.72s/it]"
          ]
        },
        {
          "output_type": "stream",
          "name": "stdout",
          "text": [
            "Validation set: Average loss: 2.229199, Accuracy: 165/400 (41%)\n",
            "\n",
            "------------------------------- Epoch: 36 -------------------------------\n",
            "Training set: Average loss: 1.548303\n"
          ]
        },
        {
          "output_type": "stream",
          "name": "stderr",
          "text": [
            "\r 72%|███████▏  | 36/50 [20:56<08:08, 34.88s/it]"
          ]
        },
        {
          "output_type": "stream",
          "name": "stdout",
          "text": [
            "Validation set: Average loss: 2.285540, Accuracy: 162/400 (40%)\n",
            "\n",
            "------------------------------- Epoch: 37 -------------------------------\n",
            "Training set: Average loss: 1.486341\n"
          ]
        },
        {
          "output_type": "stream",
          "name": "stderr",
          "text": [
            "\r 74%|███████▍  | 37/50 [21:30<07:31, 34.76s/it]"
          ]
        },
        {
          "output_type": "stream",
          "name": "stdout",
          "text": [
            "Validation set: Average loss: 2.270438, Accuracy: 169/400 (42%)\n",
            "\n",
            "------------------------------- Epoch: 38 -------------------------------\n",
            "Training set: Average loss: 1.508499\n"
          ]
        },
        {
          "output_type": "stream",
          "name": "stderr",
          "text": [
            "\r 76%|███████▌  | 38/50 [22:04<06:55, 34.61s/it]"
          ]
        },
        {
          "output_type": "stream",
          "name": "stdout",
          "text": [
            "Validation set: Average loss: 2.243991, Accuracy: 156/400 (39%)\n",
            "\n",
            "------------------------------- Epoch: 39 -------------------------------\n",
            "Training set: Average loss: 1.461757\n"
          ]
        },
        {
          "output_type": "stream",
          "name": "stderr",
          "text": [
            "\r 78%|███████▊  | 39/50 [22:40<06:24, 34.94s/it]"
          ]
        },
        {
          "output_type": "stream",
          "name": "stdout",
          "text": [
            "Validation set: Average loss: 2.178950, Accuracy: 166/400 (42%)\n",
            "\n",
            "------------------------------- Epoch: 40 -------------------------------\n",
            "Training set: Average loss: 1.396416\n"
          ]
        },
        {
          "output_type": "stream",
          "name": "stderr",
          "text": [
            "\r 80%|████████  | 40/50 [23:14<05:46, 34.65s/it]"
          ]
        },
        {
          "output_type": "stream",
          "name": "stdout",
          "text": [
            "Validation set: Average loss: 2.134559, Accuracy: 172/400 (43%)\n",
            "\n",
            "------------------------------- Epoch: 41 -------------------------------\n",
            "Training set: Average loss: 1.375967\n"
          ]
        },
        {
          "output_type": "stream",
          "name": "stderr",
          "text": [
            "\r 82%|████████▏ | 41/50 [23:49<05:13, 34.85s/it]"
          ]
        },
        {
          "output_type": "stream",
          "name": "stdout",
          "text": [
            "Validation set: Average loss: 2.197079, Accuracy: 163/400 (41%)\n",
            "\n",
            "------------------------------- Epoch: 42 -------------------------------\n",
            "Training set: Average loss: 1.362275\n"
          ]
        },
        {
          "output_type": "stream",
          "name": "stderr",
          "text": [
            "\r 84%|████████▍ | 42/50 [24:23<04:36, 34.56s/it]"
          ]
        },
        {
          "output_type": "stream",
          "name": "stdout",
          "text": [
            "Validation set: Average loss: 2.125292, Accuracy: 159/400 (40%)\n",
            "\n",
            "------------------------------- Epoch: 43 -------------------------------\n",
            "Training set: Average loss: 1.372530\n"
          ]
        },
        {
          "output_type": "stream",
          "name": "stderr",
          "text": [
            "\r 86%|████████▌ | 43/50 [24:59<04:04, 34.87s/it]"
          ]
        },
        {
          "output_type": "stream",
          "name": "stdout",
          "text": [
            "Validation set: Average loss: 2.156828, Accuracy: 162/400 (40%)\n",
            "\n",
            "------------------------------- Epoch: 44 -------------------------------\n",
            "Training set: Average loss: 1.360384\n"
          ]
        },
        {
          "output_type": "stream",
          "name": "stderr",
          "text": [
            "\r 88%|████████▊ | 44/50 [25:33<03:27, 34.64s/it]"
          ]
        },
        {
          "output_type": "stream",
          "name": "stdout",
          "text": [
            "Validation set: Average loss: 2.106139, Accuracy: 176/400 (44%)\n",
            "\n",
            "------------------------------- Epoch: 45 -------------------------------\n",
            "Training set: Average loss: 1.347091\n"
          ]
        },
        {
          "output_type": "stream",
          "name": "stderr",
          "text": [
            "\r 90%|█████████ | 45/50 [26:08<02:54, 34.82s/it]"
          ]
        },
        {
          "output_type": "stream",
          "name": "stdout",
          "text": [
            "Validation set: Average loss: 2.062835, Accuracy: 178/400 (44%)\n",
            "\n",
            "------------------------------- Epoch: 46 -------------------------------\n",
            "Training set: Average loss: 1.287902\n"
          ]
        },
        {
          "output_type": "stream",
          "name": "stderr",
          "text": [
            "\r 92%|█████████▏| 46/50 [26:42<02:18, 34.57s/it]"
          ]
        },
        {
          "output_type": "stream",
          "name": "stdout",
          "text": [
            "Validation set: Average loss: 2.121573, Accuracy: 162/400 (40%)\n",
            "\n",
            "------------------------------- Epoch: 47 -------------------------------\n",
            "Training set: Average loss: 1.229381\n"
          ]
        },
        {
          "output_type": "stream",
          "name": "stderr",
          "text": [
            "\r 94%|█████████▍| 47/50 [27:17<01:44, 34.79s/it]"
          ]
        },
        {
          "output_type": "stream",
          "name": "stdout",
          "text": [
            "Validation set: Average loss: 2.066873, Accuracy: 166/400 (42%)\n",
            "\n",
            "------------------------------- Epoch: 48 -------------------------------\n",
            "Training set: Average loss: 1.309892\n"
          ]
        },
        {
          "output_type": "stream",
          "name": "stderr",
          "text": [
            "\r 96%|█████████▌| 48/50 [27:51<01:09, 34.55s/it]"
          ]
        },
        {
          "output_type": "stream",
          "name": "stdout",
          "text": [
            "Validation set: Average loss: 2.051270, Accuracy: 171/400 (43%)\n",
            "\n",
            "------------------------------- Epoch: 49 -------------------------------\n",
            "Training set: Average loss: 1.234426\n"
          ]
        },
        {
          "output_type": "stream",
          "name": "stderr",
          "text": [
            "\r 98%|█████████▊| 49/50 [28:27<00:34, 34.88s/it]"
          ]
        },
        {
          "output_type": "stream",
          "name": "stdout",
          "text": [
            "Validation set: Average loss: 2.109373, Accuracy: 165/400 (41%)\n",
            "\n",
            "------------------------------- Epoch: 50 -------------------------------\n",
            "Training set: Average loss: 1.264724\n"
          ]
        },
        {
          "output_type": "stream",
          "name": "stderr",
          "text": [
            "100%|██████████| 50/50 [29:01<00:00, 34.83s/it]"
          ]
        },
        {
          "output_type": "stream",
          "name": "stdout",
          "text": [
            "Validation set: Average loss: 2.020796, Accuracy: 175/400 (44%)\n",
            "\n"
          ]
        },
        {
          "output_type": "stream",
          "name": "stderr",
          "text": [
            "\n"
          ]
        }
      ]
    },
    {
      "cell_type": "code",
      "source": [
        "from sklearn.metrics import precision_score, recall_score, f1_score\n",
        "import torch\n",
        "import torch.nn as nn\n",
        "\n",
        "loss_criteria = nn.CrossEntropyLoss()\n",
        "\n",
        "def test_upd(model, device, test_loader):\n",
        "    model.eval()\n",
        "    test_loss = 0\n",
        "    correct = 0\n",
        "    all_targets = []\n",
        "    all_predictions = []\n",
        "\n",
        "    with torch.no_grad():\n",
        "        batch_count = 0\n",
        "        for data, target in test_loader:\n",
        "            batch_count += 1\n",
        "            data, target = data.to(device), target.to(device)\n",
        "\n",
        "            output = model(data)\n",
        "            test_loss += loss_criteria(output, target).item()\n",
        "\n",
        "            _, predicted = torch.max(output.data, 1)\n",
        "            correct += torch.sum(target == predicted).item()\n",
        "\n",
        "            all_targets.extend(target.cpu().numpy())\n",
        "            all_predictions.extend(predicted.cpu().numpy())\n",
        "\n",
        "    avg_loss = test_loss / batch_count\n",
        "    accuracy = 100. * correct / len(test_loader.dataset)\n",
        "\n",
        "    # Calculate precision, recall and F1-score\n",
        "    precision = precision_score(all_targets, all_predictions, average='weighted')\n",
        "    recall = recall_score(all_targets, all_predictions, average='weighted')\n",
        "    f1 = f1_score(all_targets, all_predictions, average='weighted')\n",
        "\n",
        "    print('Validation set: Average loss: {:.6f}, Accuracy: {}/{} ({:.0f}%), Precision: {:.4f}, Recall: {:.4f}, F1 Score: {:.4f}\\n'.format(\n",
        "        avg_loss, correct, len(test_loader.dataset), accuracy, precision, recall, f1))\n",
        "\n",
        "    return avg_loss, accuracy, precision, recall, f1"
      ],
      "metadata": {
        "id": "U_CZmGXvAm0k"
      },
      "execution_count": 23,
      "outputs": []
    },
    {
      "cell_type": "code",
      "source": [
        "t = test_upd(model, device, test_loader)"
      ],
      "metadata": {
        "colab": {
          "base_uri": "https://localhost:8080/"
        },
        "id": "25IJcgwPQjBg",
        "outputId": "e5a63fa4-1f63-4c69-f779-5353eb99e95c"
      },
      "execution_count": 24,
      "outputs": [
        {
          "output_type": "stream",
          "name": "stdout",
          "text": [
            "Validation set: Average loss: 2.105532, Accuracy: 175/400 (44%), Precision: 0.4823, Recall: 0.4375, F1 Score: 0.4316\n",
            "\n"
          ]
        }
      ]
    },
    {
      "cell_type": "code",
      "source": [],
      "metadata": {
        "id": "d0TC10ZeQpiM"
      },
      "execution_count": null,
      "outputs": []
    }
  ]
}